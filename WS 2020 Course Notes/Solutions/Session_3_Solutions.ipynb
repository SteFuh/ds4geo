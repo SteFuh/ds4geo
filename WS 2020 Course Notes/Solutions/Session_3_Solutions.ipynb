{
  "nbformat": 4,
  "nbformat_minor": 0,
  "metadata": {
    "colab": {
      "name": "Session 3 Solutions.ipynb",
      "provenance": [],
      "authorship_tag": "ABX9TyOjICE+5ZwdbyRgYAzHLQUS",
      "include_colab_link": true
    },
    "kernelspec": {
      "name": "python3",
      "display_name": "Python 3"
    }
  },
  "cells": [
    {
      "cell_type": "markdown",
      "metadata": {
        "id": "view-in-github",
        "colab_type": "text"
      },
      "source": [
        "<a href=\"https://colab.research.google.com/github/ds4geo/ds4geo/blob/master/WS%202020%20Course%20Notes/Solutions/Session_3_Solutions.ipynb\" target=\"_parent\"><img src=\"https://colab.research.google.com/assets/colab-badge.svg\" alt=\"Open In Colab\"/></a>"
      ]
    },
    {
      "cell_type": "markdown",
      "metadata": {
        "id": "T64UHwye_cO1"
      },
      "source": [
        "# **Data Science for Geoscientists - Winter Semester 2020**\n",
        "# **Session 3 - Pandas - 21st October 2020**\n",
        "# Solutions"
      ]
    },
    {
      "cell_type": "code",
      "metadata": {
        "id": "jH4fVR33AKFb"
      },
      "source": [
        "import pandas as pd\n",
        "import matplotlib.pyplot as plt"
      ],
      "execution_count": 2,
      "outputs": []
    },
    {
      "cell_type": "markdown",
      "metadata": {
        "id": "sS1ZcYMW__mT"
      },
      "source": [
        "## 3.2.1.1"
      ]
    },
    {
      "cell_type": "code",
      "metadata": {
        "id": "dtKFQ60n_Yju"
      },
      "source": [
        "LR04 = pd.read_csv(\"https://raw.githubusercontent.com/ds4geo/ds4geo/master/data/timeseries/LR04stack.txt\", sep=\"\\t\", header=3)\n",
        "LR04.columns = [\"Age\", \"d18O\", \"error\"]\n",
        "NGRIP = pd.read_csv(\"https://raw.githubusercontent.com/ds4geo/ds4geo/master/data/timeseries/NGRIP_chronology_20.tab\", sep=\"\\t\", header=20)\n",
        "NGRIP.columns = [\"Age\", \"Depth\", \"Age_error\", \"d18O\"]"
      ],
      "execution_count": 3,
      "outputs": []
    },
    {
      "cell_type": "code",
      "metadata": {
        "id": "AbycMHO7ACbV",
        "outputId": "ea18333d-196b-4f70-c3d8-718594f732bf",
        "colab": {
          "base_uri": "https://localhost:8080/",
          "height": 51
        }
      },
      "source": [
        "# Age of oldest samples\n",
        "print(\"LR04:\", LR04[\"Age\"].iloc[-1], \"ka\")\n",
        "print(\"NGRIP:\",NGRIP[\"Age\"].iloc[-1], \"ka\")"
      ],
      "execution_count": 5,
      "outputs": [
        {
          "output_type": "stream",
          "text": [
            "LR04: 5320.0 ka\n",
            "NGRIP: 41.71 ka\n"
          ],
          "name": "stdout"
        }
      ]
    },
    {
      "cell_type": "code",
      "metadata": {
        "id": "-9xj8wsKAJIx"
      },
      "source": [
        "# First 1000 rows of each\n",
        "LR04.iloc[:1000]\n",
        "NGRIP.iloc[:1000]"
      ],
      "execution_count": null,
      "outputs": []
    },
    {
      "cell_type": "markdown",
      "metadata": {
        "id": "jO_kJq_nAZ7T"
      },
      "source": [
        "##3.2.1.2"
      ]
    },
    {
      "cell_type": "code",
      "metadata": {
        "id": "gPBokN-xAgg-"
      },
      "source": [
        "nh = pd.read_csv(\"https://doi.pangaea.de/10.1594/PANGAEA.922011?format=textfile\", sep=\"\\t\", header=105)"
      ],
      "execution_count": 6,
      "outputs": []
    },
    {
      "cell_type": "code",
      "metadata": {
        "id": "ONp0dJ_uAhM0"
      },
      "source": [
        "# Element data only\n",
        "nh.iloc[:,10:]\n",
        "# First 10 rows of element data\n",
        "nh.iloc[:10,10:]\n"
      ],
      "execution_count": null,
      "outputs": []
    },
    {
      "cell_type": "markdown",
      "metadata": {
        "id": "VVTFWbgqA4vY"
      },
      "source": [
        "##3.2.1.3"
      ]
    },
    {
      "cell_type": "code",
      "metadata": {
        "id": "uRnrTDYgAjE1"
      },
      "source": [
        "glaciers = pd.read_csv(\"https://raw.githubusercontent.com/ds4geo/ds4geo/master/student_submitted_data/Giulia_Bertolotti/GI_4_2015/GI_4_2015.csv\")"
      ],
      "execution_count": 12,
      "outputs": []
    },
    {
      "cell_type": "code",
      "metadata": {
        "id": "o8SNhFahA7T2",
        "outputId": "faf2b4c2-a0bd-4830-e23e-a68a48b6310b",
        "colab": {
          "base_uri": "https://localhost:8080/",
          "height": 119
        }
      },
      "source": [
        "# Names of top 5 glaciers by size\n",
        "sorted = glaciers.sort_values(\"Shape_Area\", ascending=False)\n",
        "print(sorted.iloc[0:5][\"name\"])"
      ],
      "execution_count": 13,
      "outputs": [
        {
          "output_type": "stream",
          "text": [
            "0             Pasterze\n",
            "1      Gepatsch Ferner\n",
            "2         Schlatenkees\n",
            "3       Gurgker Ferner\n",
            "4    Mittelberg Ferner\n",
            "Name: name, dtype: object\n"
          ],
          "name": "stdout"
        }
      ]
    },
    {
      "cell_type": "code",
      "metadata": {
        "id": "xkfaJV2GBBZ8"
      },
      "source": [
        ""
      ],
      "execution_count": null,
      "outputs": []
    },
    {
      "cell_type": "markdown",
      "metadata": {
        "id": "nCpHPMNvBLjl"
      },
      "source": [
        "##3.2.2.1"
      ]
    },
    {
      "cell_type": "code",
      "metadata": {
        "id": "iSQYOHXuBYV7"
      },
      "source": [
        ""
      ],
      "execution_count": null,
      "outputs": []
    },
    {
      "cell_type": "markdown",
      "metadata": {
        "id": "gUQOn_9oBYjp"
      },
      "source": [
        "##3.2.2.2"
      ]
    },
    {
      "cell_type": "code",
      "metadata": {
        "id": "I2-b2fZPBcpo"
      },
      "source": [
        "hekla = pd.read_csv(\"https://raw.githubusercontent.com/ds4geo/ds4geo/master/student_submitted_data/Giulia_Bertolotti/Hekla_Tephra_GIulia\",sep=\"\\t\",decimal=\",\")"
      ],
      "execution_count": null,
      "outputs": []
    },
    {
      "cell_type": "code",
      "metadata": {
        "id": "fjetdW_iBdAY"
      },
      "source": [
        "# Select Chemistry data only for Eruption H1104\n",
        "hekla.index= hekla.Eruption\n",
        "hekla.loc[\"H1104\", \"SiO2\": \"P2O5\"]"
      ],
      "execution_count": null,
      "outputs": []
    },
    {
      "cell_type": "markdown",
      "metadata": {
        "id": "vlZwdSxBBlD3"
      },
      "source": [
        "##3.2.3.1"
      ]
    },
    {
      "cell_type": "code",
      "metadata": {
        "id": "qOO6e5LiBrZL"
      },
      "source": [
        ""
      ],
      "execution_count": null,
      "outputs": []
    },
    {
      "cell_type": "markdown",
      "metadata": {
        "id": "cUrFt2UnBrpO"
      },
      "source": [
        "##3.2.4.2"
      ]
    },
    {
      "cell_type": "code",
      "metadata": {
        "id": "bHDWkDetBwc-"
      },
      "source": [
        ""
      ],
      "execution_count": null,
      "outputs": []
    },
    {
      "cell_type": "markdown",
      "metadata": {
        "id": "lEB107K3BwtN"
      },
      "source": [
        "## 3.3.1"
      ]
    },
    {
      "cell_type": "code",
      "metadata": {
        "id": "FVI_7U_zCGR6"
      },
      "source": [
        "kol_dat = pd.read_csv(\"https://raw.githubusercontent.com/ds4geo/ds4geo/master/student_submitted_data/Temp-Salinity-North%20of%20Iceland_Johanna_P%C3%B6ll.csv\", sep=\";\", header=10)"
      ],
      "execution_count": null,
      "outputs": []
    },
    {
      "cell_type": "code",
      "metadata": {
        "id": "51BDP-iRCC2h"
      },
      "source": [
        "# Task 1\n",
        "profiles = []\n",
        "for event in kol_dat[\"Event\"].unique():\n",
        "  split = kol_dat.loc[kol_dat[\"Event\"]==event]\n",
        "  profiles.append(split)"
      ],
      "execution_count": null,
      "outputs": []
    },
    {
      "cell_type": "code",
      "metadata": {
        "id": "P6t4HzIaCMEm"
      },
      "source": [
        "# Task 2"
      ],
      "execution_count": null,
      "outputs": []
    },
    {
      "cell_type": "markdown",
      "metadata": {
        "id": "IzY5TyUaCSWL"
      },
      "source": [
        "##3.3.2"
      ]
    },
    {
      "cell_type": "code",
      "metadata": {
        "id": "pTVfdVR_CTj3"
      },
      "source": [
        ""
      ],
      "execution_count": null,
      "outputs": []
    },
    {
      "cell_type": "markdown",
      "metadata": {
        "id": "vcknL7qVCTxu"
      },
      "source": [
        "##3.3.3"
      ]
    },
    {
      "cell_type": "code",
      "metadata": {
        "id": "yyE_cKPTCU9c"
      },
      "source": [
        "# Task 1\n",
        "hekla.index = hekla[\"Eruption\"]\n",
        "fig, ax = plt.subplots(figsize=(12,8))\n",
        "for er in hekla.Eruption.unique():\n",
        "  split = hekla.loc[er]\n",
        "  ax.scatter(split[\"FeO\"], split[\"Na2O\"], label=er)\n",
        "ax.legend()"
      ],
      "execution_count": null,
      "outputs": []
    },
    {
      "cell_type": "code",
      "metadata": {
        "id": "2HWHg9VQCY_t"
      },
      "source": [
        "# Task 2\n",
        "fig, ax = plt.subplots(figsize=(16,8))\n",
        "for yr in rossalm.index.year.unique():\n",
        "  if yr != 2014:\n",
        "    if yr == 2018:\n",
        "      ax.plot(rossalm.loc[str(yr)].temp.values)\n",
        "    else:\n",
        "      ax.plot(rossalm.loc[str(yr)].temp.values, color=\"gray\", linewidth=0.5)\n",
        "ax.plot(rossalm.loc[\"2018\"].temp.values)\n",
        "plt.ylim(-10,20)\n",
        "#plt.xlim(10000,45000)"
      ],
      "execution_count": null,
      "outputs": []
    }
  ]
}