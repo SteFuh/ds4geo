{
  "nbformat": 4,
  "nbformat_minor": 0,
  "metadata": {
    "colab": {
      "name": "Untitled2.ipynb",
      "provenance": [],
      "authorship_tag": "ABX9TyMJoKWM27WrUzwjl0mbd5gU",
      "include_colab_link": true
    },
    "kernelspec": {
      "name": "python3",
      "display_name": "Python 3"
    }
  },
  "cells": [
    {
      "cell_type": "markdown",
      "metadata": {
        "id": "view-in-github",
        "colab_type": "text"
      },
      "source": [
        "<a href=\"https://colab.research.google.com/github/ds4geo/ds4geo/blob/master/WS%202020%20Course%20Notes/Solutions/Session%204%20Solutions.ipynb\" target=\"_parent\"><img src=\"https://colab.research.google.com/assets/colab-badge.svg\" alt=\"Open In Colab\"/></a>"
      ]
    },
    {
      "cell_type": "markdown",
      "metadata": {
        "id": "1nUXc40rCXTF"
      },
      "source": [
        "# **Data Science for Geoscientists - Winter Semester 2020**\n",
        "# **Session 4 - Numpy etc. - 28th October 2020**\n",
        "# **Solutions**"
      ]
    },
    {
      "cell_type": "code",
      "metadata": {
        "id": "i8_tHxlj4TlV"
      },
      "source": [
        "import numpy as np"
      ],
      "execution_count": 1,
      "outputs": []
    },
    {
      "cell_type": "markdown",
      "metadata": {
        "id": "NHBuupVQ4UjL"
      },
      "source": [
        "4.4"
      ]
    },
    {
      "cell_type": "code",
      "metadata": {
        "id": "lL4MQkbJ-eP6",
        "outputId": "fc9350b5-b129-497f-bc4e-7c3cd241ba24",
        "colab": {
          "base_uri": "https://localhost:8080/",
          "height": 357
        }
      },
      "source": [
        "# 1.\n",
        "print(np.arange(3,100,3))\n",
        "\n",
        "# 2. \n",
        "print(np.ones(6) * 15)\n",
        "\n",
        "# 3.\n",
        "print(np.arange(0,100.5,0.5))"
      ],
      "execution_count": 6,
      "outputs": [
        {
          "output_type": "stream",
          "text": [
            "[ 3  6  9 12 15 18 21 24 27 30 33 36 39 42 45 48 51 54 57 60 63 66 69 72\n",
            " 75 78 81 84 87 90 93 96 99]\n",
            "[15. 15. 15. 15. 15. 15.]\n",
            "[  0.    0.5   1.    1.5   2.    2.5   3.    3.5   4.    4.5   5.    5.5\n",
            "   6.    6.5   7.    7.5   8.    8.5   9.    9.5  10.   10.5  11.   11.5\n",
            "  12.   12.5  13.   13.5  14.   14.5  15.   15.5  16.   16.5  17.   17.5\n",
            "  18.   18.5  19.   19.5  20.   20.5  21.   21.5  22.   22.5  23.   23.5\n",
            "  24.   24.5  25.   25.5  26.   26.5  27.   27.5  28.   28.5  29.   29.5\n",
            "  30.   30.5  31.   31.5  32.   32.5  33.   33.5  34.   34.5  35.   35.5\n",
            "  36.   36.5  37.   37.5  38.   38.5  39.   39.5  40.   40.5  41.   41.5\n",
            "  42.   42.5  43.   43.5  44.   44.5  45.   45.5  46.   46.5  47.   47.5\n",
            "  48.   48.5  49.   49.5  50.   50.5  51.   51.5  52.   52.5  53.   53.5\n",
            "  54.   54.5  55.   55.5  56.   56.5  57.   57.5  58.   58.5  59.   59.5\n",
            "  60.   60.5  61.   61.5  62.   62.5  63.   63.5  64.   64.5  65.   65.5\n",
            "  66.   66.5  67.   67.5  68.   68.5  69.   69.5  70.   70.5  71.   71.5\n",
            "  72.   72.5  73.   73.5  74.   74.5  75.   75.5  76.   76.5  77.   77.5\n",
            "  78.   78.5  79.   79.5  80.   80.5  81.   81.5  82.   82.5  83.   83.5\n",
            "  84.   84.5  85.   85.5  86.   86.5  87.   87.5  88.   88.5  89.   89.5\n",
            "  90.   90.5  91.   91.5  92.   92.5  93.   93.5  94.   94.5  95.   95.5\n",
            "  96.   96.5  97.   97.5  98.   98.5  99.   99.5 100. ]\n"
          ],
          "name": "stdout"
        }
      ]
    },
    {
      "cell_type": "code",
      "metadata": {
        "id": "81DgnCjF_MMY",
        "outputId": "89707a6a-f5ff-4f99-836a-2a017e08c5f5",
        "colab": {
          "base_uri": "https://localhost:8080/",
          "height": 646
        }
      },
      "source": [
        "# 4.\n",
        "print((np.random.random_sample(100) * 99) + 1)\n",
        "\n",
        "# 5. \n",
        "print(np.random.randint(25, 75, 50))\n",
        "\n",
        "# 6.\n",
        "print((np.random.standard_normal(100) * 2) + 5)"
      ],
      "execution_count": 15,
      "outputs": [
        {
          "output_type": "stream",
          "text": [
            "[27.09745024 23.89656764 19.23328456 22.6116312  88.71293556 99.57586614\n",
            " 62.25118423 93.37290248  9.99549137 84.86297882 96.64519909  9.37727597\n",
            " 46.35373675 17.99005706 13.57101245 73.39198831 59.71990447 13.58877663\n",
            " 38.05909442  5.01383105 52.51630475 21.47013801 61.68866154 14.95236727\n",
            " 80.44457976 85.66445584 67.36295219 24.92024947 97.62834879  4.23532822\n",
            " 58.3149809  16.59216717 61.64305336 55.75582209 33.87966589 55.05406657\n",
            " 43.21642479  9.41552406 95.750016   15.31841861 24.15701824 98.86586615\n",
            " 60.74312614 42.14005527 83.39215584 80.87974924 64.04596437  6.66966385\n",
            " 66.91128883 97.04076878 59.84276502 72.6756169  82.78254412 91.42000399\n",
            " 60.03229801 54.84669401 62.97723103  3.47132047 12.1948738  74.63691807\n",
            " 49.90162917 87.32489162 68.50339525 30.83040225 36.56268935 72.34285612\n",
            " 15.79508647 36.55128797 76.17241577  7.30213952 82.56040232 80.64951443\n",
            " 75.35718338 11.27870654 45.97620136 14.74088952  2.06160358 56.85140296\n",
            " 80.5591623  69.82449254 92.00283153 83.55931534 74.0769596   5.8090275\n",
            " 40.98318347 93.46142523 46.44781746 49.56792357 64.12770226 61.94485857\n",
            "  7.62476326 17.54033146  3.38672563 52.88114357 43.30947849 92.14905444\n",
            " 70.63711961 86.88752089  2.90793965 86.71937223]\n",
            "[35 62 63 59 30 53 33 29 51 74 56 42 38 32 33 38 59 68 34 33 64 27 41 29\n",
            " 35 51 64 74 37 62 64 26 59 44 34 40 56 28 25 52 36 33 67 40 27 41 66 46\n",
            " 56 54]\n",
            "[ 5.85664878  4.39583033  5.2483322   0.70016799  5.47118469  3.63299209\n",
            "  2.46489888  3.67950997  5.72826336  8.43351214  6.0281661   4.88742427\n",
            "  6.35211019  2.69881336  6.39104768  6.8500699   7.703944    2.64445118\n",
            "  5.45054352  5.79222027  2.14148253  8.10823034  6.81578988  5.61926976\n",
            "  5.78400726  2.90735227  6.37305862  5.47211437  3.61827725  7.75766153\n",
            "  3.73217397  6.86839067  1.94343875  4.96539135  7.32427711  2.96963308\n",
            "  6.57101337  9.2084188   3.39701253  3.81647561  4.30742506  4.68882296\n",
            " -0.01700713  0.93262216  3.83351263  5.46221187  3.96410125  3.0142476\n",
            "  3.23527543  3.99460664  7.60707315  4.68045501  4.46474308  5.06198817\n",
            "  2.67574233  2.29628522  4.47271868  7.20246506  5.63653004  5.28852941\n",
            "  8.77876195  4.10113418  0.58859151  5.57054319  5.92073831  6.2300667\n",
            "  4.17835822  5.79081843  7.00417581  7.5412181   1.94486701  5.05054141\n",
            "  4.10399636  2.88614737  1.18698524  5.07956025  5.26820699  1.42320268\n",
            "  5.83336197  3.9631812   6.56839379  5.29158351  5.61444271  6.0468963\n",
            "  0.81417705  4.82591753  5.10034124  6.15292601  5.8324781   2.49400458\n",
            "  4.78154303  3.70484941  7.6140232   7.55395751  8.28879267  4.32952292\n",
            "  4.00325328  6.9497953   2.0081122   4.31365959]\n"
          ],
          "name": "stdout"
        }
      ]
    },
    {
      "cell_type": "code",
      "metadata": {
        "id": "E_aPxVTf4XAM",
        "outputId": "48051e46-6b08-4661-9a03-0efc49190140",
        "colab": {
          "base_uri": "https://localhost:8080/",
          "height": 119
        }
      },
      "source": [
        "# Challenge 7\n",
        "print((2 ** np.arange(-0.5,16.5,0.5)) * np.array([0,1]*17))"
      ],
      "execution_count": 22,
      "outputs": [
        {
          "output_type": "stream",
          "text": [
            "[0.0000e+00 1.0000e+00 0.0000e+00 2.0000e+00 0.0000e+00 4.0000e+00\n",
            " 0.0000e+00 8.0000e+00 0.0000e+00 1.6000e+01 0.0000e+00 3.2000e+01\n",
            " 0.0000e+00 6.4000e+01 0.0000e+00 1.2800e+02 0.0000e+00 2.5600e+02\n",
            " 0.0000e+00 5.1200e+02 0.0000e+00 1.0240e+03 0.0000e+00 2.0480e+03\n",
            " 0.0000e+00 4.0960e+03 0.0000e+00 8.1920e+03 0.0000e+00 1.6384e+04\n",
            " 0.0000e+00 3.2768e+04 0.0000e+00 6.5536e+04]\n"
          ],
          "name": "stdout"
        }
      ]
    },
    {
      "cell_type": "code",
      "metadata": {
        "id": "bVE4imtIApVL"
      },
      "source": [
        "# Challenge 8\n",
        "np.random.randint(1,6,1000) + np.random.randint(1,6,1000)"
      ],
      "execution_count": null,
      "outputs": []
    },
    {
      "cell_type": "markdown",
      "metadata": {
        "id": "5HxMkkdOBljI"
      },
      "source": [
        "#4.6.1"
      ]
    },
    {
      "cell_type": "code",
      "metadata": {
        "id": "KV5uXp9HBoOU"
      },
      "source": [
        "data_pd = pd.read_csv(\"https://raw.githubusercontent.com/ds4geo/ds4geo/master/data/timeseries/laicpms_sample.csv\", header=1)\n",
        "#data_pd = pd.read_csv(\"https://raw.githubusercontent.com/ds4geo/ds4geo/master/data/timeseries/la_icpms_486_487.csv\", header=2)\n",
        "\n",
        "data = data_pd.to_numpy()\n",
        "time = data[:,0]\n",
        "raw_te = data[:,1:]"
      ],
      "execution_count": null,
      "outputs": []
    },
    {
      "cell_type": "markdown",
      "metadata": {
        "id": "MxywB3aWBoea"
      },
      "source": [
        "#4.6.2"
      ]
    },
    {
      "cell_type": "code",
      "metadata": {
        "id": "8BzRAYgUBzR_"
      },
      "source": [
        "bg_loc = [{\"start\": 0, \"end\": 25},\n",
        "          {\"start\": 491, \"end\": 498}]\n",
        "stand_loc = [{\"start\": 27, \"end\": 82},\n",
        "            {\"start\": 105, \"end\": 160},\n",
        "            {\"start\": 184, \"end\": 220},\n",
        "            ]\n",
        "samp_loc = [{\"start\": 269, \"end\": 340 },\n",
        "            {\"start\": 363, \"end\": 389},\n",
        "            {\"start\": 409, \"end\": 433},\n",
        "            {\"start\": 453, \"end\": 487}]\n",
        "\n",
        "bg_idx = np.any([np.logical_and(time > bg_loc[0][\"start\"], time < bg_loc[0][\"end\"]),\n",
        "                 np.logical_and(time > bg_loc[1][\"start\"], time < bg_loc[1][\"end\"])],\n",
        "                axis=0)\n",
        "\n",
        "stand_idx = np.any([np.logical_and(time > stand_loc[0][\"start\"], time < stand_loc[0][\"end\"]),\n",
        "                 np.logical_and(time > stand_loc[1][\"start\"], time < stand_loc[1][\"end\"]),\n",
        "                 np.logical_and(time > stand_loc[2][\"start\"], time < stand_loc[2][\"end\"])],\n",
        "                axis=0)\n",
        "\n",
        "samp_idx = np.any([np.logical_and(time > samp_loc[0][\"start\"], time < samp_loc[0][\"end\"]),\n",
        "                 np.logical_and(time > samp_loc[1][\"start\"], time < samp_loc[1][\"end\"]),\n",
        "                 np.logical_and(time > samp_loc[2][\"start\"], time < samp_loc[2][\"end\"])],\n",
        "                axis=0)"
      ],
      "execution_count": null,
      "outputs": []
    },
    {
      "cell_type": "markdown",
      "metadata": {
        "id": "3UUJie9ABznX"
      },
      "source": [
        "# 4.6.3"
      ]
    },
    {
      "cell_type": "code",
      "metadata": {
        "id": "BmydyiCmBz4H"
      },
      "source": [
        "bg_vals = np.mean(raw_te[bg_idx], axis=0)\n",
        "bg_corr = raw_te - bg_vals"
      ],
      "execution_count": null,
      "outputs": []
    },
    {
      "cell_type": "markdown",
      "metadata": {
        "id": "pwQRgPnDB0RP"
      },
      "source": [
        "#4.6.4"
      ]
    },
    {
      "cell_type": "code",
      "metadata": {
        "id": "r92PzICZB-VN"
      },
      "source": [
        "castd_te = bg_corr / bg_corr[:,4:5]"
      ],
      "execution_count": null,
      "outputs": []
    },
    {
      "cell_type": "markdown",
      "metadata": {
        "id": "e0FieEx9B-zd"
      },
      "source": [
        "#4.6.5"
      ]
    },
    {
      "cell_type": "code",
      "metadata": {
        "id": "zrHBlzgKCFK4"
      },
      "source": [
        "std_dat = pd.read_csv(r\"https://raw.githubusercontent.com/ds4geo/ds4geo/master/data/timeseries/laicpms_standard.csv\",sep=\",\").to_numpy()\n",
        "\n",
        "stand_1_idx = np.logical_and(time > stand_loc[0][\"start\"], time < stand_loc[0][\"end\"])\n",
        "stand_comp = np.mean(castd_te[stand_1_idx,:], axis=0)\n",
        "calibr = std_dat / stand_comp\n",
        "calibrated = castd_te * calibr\n",
        "calibrated[~samp_idx] = np.nan"
      ],
      "execution_count": null,
      "outputs": []
    },
    {
      "cell_type": "markdown",
      "metadata": {
        "id": "IuzKJUMsCHhR"
      },
      "source": [
        "# 4.6.6"
      ]
    },
    {
      "cell_type": "code",
      "metadata": {
        "id": "iuydbWL2CJcL"
      },
      "source": [
        "mass_fraction = calibrated * Ca44_ppm\n",
        "for c,l in enumerate(data_pd.columns[1:]):\n",
        "  plt.plot(time,mass_fraction[:,c], label=l)\n",
        "plt.legend()\n",
        "plt.ylim([0,200])"
      ],
      "execution_count": null,
      "outputs": []
    }
  ]
}